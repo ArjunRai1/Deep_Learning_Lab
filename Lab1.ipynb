{
  "nbformat": 4,
  "nbformat_minor": 0,
  "metadata": {
    "colab": {
      "provenance": [],
      "gpuType": "T4",
      "authorship_tag": "ABX9TyPmWVsF1o7WZOJObiy9ti0E",
      "include_colab_link": true
    },
    "kernelspec": {
      "name": "python3",
      "display_name": "Python 3"
    },
    "language_info": {
      "name": "python"
    },
    "accelerator": "GPU"
  },
  "cells": [
    {
      "cell_type": "markdown",
      "metadata": {
        "id": "view-in-github",
        "colab_type": "text"
      },
      "source": [
        "<a href=\"https://colab.research.google.com/github/ArjunRai1/Deep_Learning_Lab/blob/main/Lab1.ipynb\" target=\"_parent\"><img src=\"https://colab.research.google.com/assets/colab-badge.svg\" alt=\"Open In Colab\"/></a>"
      ]
    },
    {
      "cell_type": "code",
      "execution_count": 2,
      "metadata": {
        "id": "rRIoJR1lAHrg"
      },
      "outputs": [],
      "source": [
        "import torch as t\n",
        "import numpy as np"
      ]
    },
    {
      "cell_type": "markdown",
      "source": [
        "Array to tensor"
      ],
      "metadata": {
        "id": "y5oBmCOeCV1H"
      }
    },
    {
      "cell_type": "code",
      "source": [
        "data = [[1,2],[3,4]]\n",
        "x_data = t.tensor(data)\n",
        "x_data"
      ],
      "metadata": {
        "colab": {
          "base_uri": "https://localhost:8080/"
        },
        "id": "tVabbfOgAY60",
        "outputId": "1cef4901-c8f9-41dc-84c2-67d85e2baed7"
      },
      "execution_count": 3,
      "outputs": [
        {
          "output_type": "execute_result",
          "data": {
            "text/plain": [
              "tensor([[1, 2],\n",
              "        [3, 4]])"
            ]
          },
          "metadata": {},
          "execution_count": 3
        }
      ]
    },
    {
      "cell_type": "markdown",
      "source": [
        "Numpy array to tensor\n"
      ],
      "metadata": {
        "id": "yv-esBEMCSm9"
      }
    },
    {
      "cell_type": "code",
      "source": [
        "np_array = np.array(data)\n",
        "x_np = t.from_numpy(np_array)\n",
        "x_np"
      ],
      "metadata": {
        "colab": {
          "base_uri": "https://localhost:8080/"
        },
        "id": "F5AJcqfpAhhV",
        "outputId": "63e3705a-ae45-43ea-9ff4-13daec75fc31"
      },
      "execution_count": 4,
      "outputs": [
        {
          "output_type": "execute_result",
          "data": {
            "text/plain": [
              "tensor([[1, 2],\n",
              "        [3, 4]])"
            ]
          },
          "metadata": {},
          "execution_count": 4
        }
      ]
    },
    {
      "cell_type": "markdown",
      "source": [
        "Ones tensor"
      ],
      "metadata": {
        "id": "XyQFxEVmCPfN"
      }
    },
    {
      "cell_type": "code",
      "source": [
        "X_ones = t.ones_like(x_data)\n",
        "print(\"ones tensor data:\\n\")\n",
        "X_ones"
      ],
      "metadata": {
        "colab": {
          "base_uri": "https://localhost:8080/"
        },
        "id": "JQCPoG4OBA62",
        "outputId": "1c21cefb-b457-4886-cec6-1642a91d5024"
      },
      "execution_count": 5,
      "outputs": [
        {
          "output_type": "stream",
          "name": "stdout",
          "text": [
            "ones tensor data:\n",
            "\n"
          ]
        },
        {
          "output_type": "execute_result",
          "data": {
            "text/plain": [
              "tensor([[1, 1],\n",
              "        [1, 1]])"
            ]
          },
          "metadata": {},
          "execution_count": 5
        }
      ]
    },
    {
      "cell_type": "markdown",
      "source": [
        "Random tensor"
      ],
      "metadata": {
        "id": "m-m3yTd0CYfx"
      }
    },
    {
      "cell_type": "code",
      "source": [
        "X_rand = t.rand_like(x_data, dtype=t.float)\n",
        "print(\"Random tensor:\\n\", X_rand)"
      ],
      "metadata": {
        "colab": {
          "base_uri": "https://localhost:8080/"
        },
        "id": "m-u7nWucB8BJ",
        "outputId": "971eaca3-b25f-4413-e307-aae576a9c792"
      },
      "execution_count": 6,
      "outputs": [
        {
          "output_type": "stream",
          "name": "stdout",
          "text": [
            "Random tensor:\n",
            " tensor([[0.8830, 0.4346],\n",
            "        [0.6483, 0.3805]])\n"
          ]
        }
      ]
    },
    {
      "cell_type": "markdown",
      "source": [
        "Checking the attributes of a datatype and device on which they're stored\n"
      ],
      "metadata": {
        "id": "E27Av2kECpxL"
      }
    },
    {
      "cell_type": "code",
      "source": [
        "tensor = t.rand(3, 4)\n",
        "print(\"Shape of tensor:\", tensor.shape)\n",
        "print(\"Datatype of tensor:\", tensor.dtype)\n",
        "print(\"Device of tensor:\", tensor.device)"
      ],
      "metadata": {
        "colab": {
          "base_uri": "https://localhost:8080/"
        },
        "id": "yvIYgfHiCj95",
        "outputId": "c430b4a5-564c-4d9b-f037-efb742439e75"
      },
      "execution_count": 7,
      "outputs": [
        {
          "output_type": "stream",
          "name": "stdout",
          "text": [
            "Shape of tensor: torch.Size([3, 4])\n",
            "Datatype of tensor: torch.float32\n",
            "Device of tensor: cpu\n"
          ]
        }
      ]
    },
    {
      "cell_type": "markdown",
      "source": [
        "From CPU to GPU\n"
      ],
      "metadata": {
        "id": "bsIzKa1-DEKP"
      }
    },
    {
      "cell_type": "code",
      "source": [
        "if t.cuda.is_available():\n",
        "  tensor = tensor.to(\"cuda\")\n",
        "print(\"Now tensor is stored on: \", t.device)"
      ],
      "metadata": {
        "colab": {
          "base_uri": "https://localhost:8080/"
        },
        "id": "WcWoBiBDC9Wb",
        "outputId": "9d57f8ee-a532-4798-f607-7c344af65b34"
      },
      "execution_count": 8,
      "outputs": [
        {
          "output_type": "stream",
          "name": "stdout",
          "text": [
            "Now tensor is stored on:  <class 'torch.device'>\n"
          ]
        }
      ]
    },
    {
      "cell_type": "markdown",
      "source": [
        "Indexing and slicing"
      ],
      "metadata": {
        "id": "zRsGDsY9DzpR"
      }
    },
    {
      "cell_type": "code",
      "source": [
        "tensor = t.rand_like(x_data, dtype=t.float)\n",
        "tensor"
      ],
      "metadata": {
        "colab": {
          "base_uri": "https://localhost:8080/"
        },
        "id": "edkEFJlED14M",
        "outputId": "290ba046-3250-4e8e-d98c-360af6c70902"
      },
      "execution_count": 9,
      "outputs": [
        {
          "output_type": "execute_result",
          "data": {
            "text/plain": [
              "tensor([[0.2782, 0.0721],\n",
              "        [0.9119, 0.5703]])"
            ]
          },
          "metadata": {},
          "execution_count": 9
        }
      ]
    },
    {
      "cell_type": "code",
      "source": [
        "print(\"First row: \", tensor[0])\n",
        "print(\"Last column: \", tensor[..., -1])"
      ],
      "metadata": {
        "colab": {
          "base_uri": "https://localhost:8080/"
        },
        "id": "IBJBncr_DjRs",
        "outputId": "1b08c047-4f34-4488-b138-68d6b3ff9109"
      },
      "execution_count": 10,
      "outputs": [
        {
          "output_type": "stream",
          "name": "stdout",
          "text": [
            "First row:  tensor([0.2782, 0.0721])\n",
            "Last column:  tensor([0.0721, 0.5703])\n"
          ]
        }
      ]
    },
    {
      "cell_type": "markdown",
      "source": [
        "HW question"
      ],
      "metadata": {
        "id": "YcTIBig3EiDL"
      }
    },
    {
      "cell_type": "code",
      "source": [
        "tensor = t.tensor([[1,2,3,4],[4,5,6,7],[7,8,9,10]], dtype=t.float32)\n",
        "print(\"First column:\\n\", tensor[..., 0])\n",
        "print(\"Last Row:\\n\", tensor[-1, ...])\n",
        "new_matrix = tensor[..., 0:3]\n",
        "print(\"New matrix:\\n\", new_matrix)"
      ],
      "metadata": {
        "colab": {
          "base_uri": "https://localhost:8080/"
        },
        "id": "o8a2lHWkEEXM",
        "outputId": "830aa0dd-4351-4fcf-f037-fa68d1b1c6ef"
      },
      "execution_count": 35,
      "outputs": [
        {
          "output_type": "stream",
          "name": "stdout",
          "text": [
            "First column:\n",
            " tensor([1., 4., 7.])\n",
            "Last Row:\n",
            " tensor([ 7.,  8.,  9., 10.])\n",
            "New matrix:\n",
            " tensor([[1., 2., 3.],\n",
            "        [4., 5., 6.],\n",
            "        [7., 8., 9.]])\n"
          ]
        }
      ]
    },
    {
      "cell_type": "markdown",
      "source": [
        "Concatenation"
      ],
      "metadata": {
        "id": "3t3e4ClZE5CJ"
      }
    },
    {
      "cell_type": "code",
      "source": [
        "concat = t.cat([x_data, x_data], dim=1) #Dim 1 merges the first row of first matrix with first row of second matrix and it will be the first row of resultant matrix\n",
        "concat"
      ],
      "metadata": {
        "colab": {
          "base_uri": "https://localhost:8080/"
        },
        "id": "Ug1pqP8BEz4_",
        "outputId": "41dfafcb-fc55-4679-b949-3d388badb045"
      },
      "execution_count": 12,
      "outputs": [
        {
          "output_type": "execute_result",
          "data": {
            "text/plain": [
              "tensor([[1, 2, 1, 2],\n",
              "        [3, 4, 3, 4]])"
            ]
          },
          "metadata": {},
          "execution_count": 12
        }
      ]
    },
    {
      "cell_type": "code",
      "source": [
        "concat = t.cat([x_data, x_data], dim=0)\n",
        "concat"
      ],
      "metadata": {
        "colab": {
          "base_uri": "https://localhost:8080/"
        },
        "id": "nMkmfCm_FK2v",
        "outputId": "d9023cef-26c0-4364-9871-51a3a3f1eb9f"
      },
      "execution_count": 13,
      "outputs": [
        {
          "output_type": "execute_result",
          "data": {
            "text/plain": [
              "tensor([[1, 2],\n",
              "        [3, 4],\n",
              "        [1, 2],\n",
              "        [3, 4]])"
            ]
          },
          "metadata": {},
          "execution_count": 13
        }
      ]
    },
    {
      "cell_type": "markdown",
      "source": [
        "Arithmetic operations"
      ],
      "metadata": {
        "id": "4yMKfll0FvsC"
      }
    },
    {
      "cell_type": "code",
      "source": [
        "#Create tensors\n",
        "x=t.tensor([1,2,3], dtype=t.float32)\n",
        "y = t.tensor([4,5,6], dtype=t.float32)"
      ],
      "metadata": {
        "id": "1n7D9oceFi6_"
      },
      "execution_count": 14,
      "outputs": []
    },
    {
      "cell_type": "code",
      "source": [
        "#Addition\n",
        "add = x+y\n",
        "add"
      ],
      "metadata": {
        "colab": {
          "base_uri": "https://localhost:8080/"
        },
        "id": "GVBiKsHYF-4y",
        "outputId": "23684774-99c3-47c6-a69d-81e3e59cd944"
      },
      "execution_count": 15,
      "outputs": [
        {
          "output_type": "execute_result",
          "data": {
            "text/plain": [
              "tensor([5., 7., 9.])"
            ]
          },
          "metadata": {},
          "execution_count": 15
        }
      ]
    },
    {
      "cell_type": "code",
      "source": [
        "#Subtraction\n",
        "sub = x-y\n",
        "sub"
      ],
      "metadata": {
        "colab": {
          "base_uri": "https://localhost:8080/"
        },
        "id": "q_dBCZgrGC6R",
        "outputId": "09f33cae-72b0-4381-edcb-d0bd22e2af60"
      },
      "execution_count": 16,
      "outputs": [
        {
          "output_type": "execute_result",
          "data": {
            "text/plain": [
              "tensor([-3., -3., -3.])"
            ]
          },
          "metadata": {},
          "execution_count": 16
        }
      ]
    },
    {
      "cell_type": "code",
      "source": [
        "#Exponentiation\n",
        "exponent = t.exp(x)\n",
        "exponent"
      ],
      "metadata": {
        "colab": {
          "base_uri": "https://localhost:8080/"
        },
        "id": "9hg_-EwAGKEy",
        "outputId": "f1d73d57-721f-4d11-930b-fba94aa5103a"
      },
      "execution_count": 17,
      "outputs": [
        {
          "output_type": "execute_result",
          "data": {
            "text/plain": [
              "tensor([ 2.7183,  7.3891, 20.0855])"
            ]
          },
          "metadata": {},
          "execution_count": 17
        }
      ]
    },
    {
      "cell_type": "markdown",
      "source": [
        "Square root and sin for x and y"
      ],
      "metadata": {
        "id": "cXMr0ZruGcM3"
      }
    },
    {
      "cell_type": "code",
      "source": [
        "#Square root\n",
        "square_root = t.sqrt(x)\n",
        "square_root"
      ],
      "metadata": {
        "colab": {
          "base_uri": "https://localhost:8080/"
        },
        "id": "cpQGenMfGZRk",
        "outputId": "3e020c0d-48f7-4687-8318-710f922d9dcb"
      },
      "execution_count": 18,
      "outputs": [
        {
          "output_type": "execute_result",
          "data": {
            "text/plain": [
              "tensor([1.0000, 1.4142, 1.7321])"
            ]
          },
          "metadata": {},
          "execution_count": 18
        }
      ]
    },
    {
      "cell_type": "code",
      "source": [
        "#Sin for x\n",
        "sin = t.sin(x)\n",
        "sin"
      ],
      "metadata": {
        "colab": {
          "base_uri": "https://localhost:8080/"
        },
        "id": "cXUFggNlGlgz",
        "outputId": "af8202f7-96fe-4529-b647-c6fb24672b78"
      },
      "execution_count": 19,
      "outputs": [
        {
          "output_type": "execute_result",
          "data": {
            "text/plain": [
              "tensor([0.8415, 0.9093, 0.1411])"
            ]
          },
          "metadata": {},
          "execution_count": 19
        }
      ]
    },
    {
      "cell_type": "code",
      "source": [
        "#Sin for y\n",
        "sin = t.sin(y)\n",
        "sin"
      ],
      "metadata": {
        "colab": {
          "base_uri": "https://localhost:8080/"
        },
        "id": "mY8qiYL2GrK0",
        "outputId": "c2bfd4ea-5d31-44e2-e3fe-1a5331bc67f3"
      },
      "execution_count": 20,
      "outputs": [
        {
          "output_type": "execute_result",
          "data": {
            "text/plain": [
              "tensor([-0.7568, -0.9589, -0.2794])"
            ]
          },
          "metadata": {},
          "execution_count": 20
        }
      ]
    },
    {
      "cell_type": "markdown",
      "source": [
        "Matrix Multiplication"
      ],
      "metadata": {
        "id": "8JV_hOSNGzGT"
      }
    },
    {
      "cell_type": "code",
      "source": [
        "matrix_A = t.tensor([[1,2],[3,4]], dtype = t.float32)\n",
        "matrix_B = t.tensor([[5, 6], [7, 8]], dtype = t.float32)\n",
        "result = t.matmul(matrix_A, matrix_B)\n",
        "result"
      ],
      "metadata": {
        "colab": {
          "base_uri": "https://localhost:8080/"
        },
        "id": "LDjixr-IGxYz",
        "outputId": "8eafe825-9e70-4cf8-d500-001e5615e2bb"
      },
      "execution_count": 21,
      "outputs": [
        {
          "output_type": "execute_result",
          "data": {
            "text/plain": [
              "tensor([[19., 22.],\n",
              "        [43., 50.]])"
            ]
          },
          "metadata": {},
          "execution_count": 21
        }
      ]
    },
    {
      "cell_type": "markdown",
      "source": [
        "Find the determinant, transpose and inverse of a 3x3 matrix"
      ],
      "metadata": {
        "id": "KwYVF0LGHwPs"
      }
    },
    {
      "cell_type": "code",
      "source": [
        "#Determinant\n",
        "matrix_A = t.tensor([[1,2],[3,4]], dtype = t.float32)\n",
        "result = t.linalg.det(matrix_A)\n",
        "result"
      ],
      "metadata": {
        "id": "lgc9k5ysHNLn",
        "colab": {
          "base_uri": "https://localhost:8080/"
        },
        "outputId": "346b8a48-d181-4bfb-e3cd-f5205f9806f0"
      },
      "execution_count": 28,
      "outputs": [
        {
          "output_type": "execute_result",
          "data": {
            "text/plain": [
              "tensor(-2.)"
            ]
          },
          "metadata": {},
          "execution_count": 28
        }
      ]
    },
    {
      "cell_type": "code",
      "source": [
        "#Inverse\n",
        "matrix_A = t.tensor([[5,6], [7,8]], dtype=t.float32)\n",
        "result = t.linalg.inv(matrix_A)\n",
        "result"
      ],
      "metadata": {
        "colab": {
          "base_uri": "https://localhost:8080/"
        },
        "id": "ovFgw85xTji9",
        "outputId": "56a4f591-cdbb-438a-8ad9-936c3b45f82a"
      },
      "execution_count": 29,
      "outputs": [
        {
          "output_type": "execute_result",
          "data": {
            "text/plain": [
              "tensor([[-4.0000,  3.0000],\n",
              "        [ 3.5000, -2.5000]])"
            ]
          },
          "metadata": {},
          "execution_count": 29
        }
      ]
    },
    {
      "cell_type": "markdown",
      "source": [
        "Eigen values and eigen vectors"
      ],
      "metadata": {
        "id": "9i7HZO7TICXY"
      }
    },
    {
      "cell_type": "code",
      "source": [
        "#Transpose\n",
        "matrix_A = t.tensor([[4,5], [6,7]], dtype=t.float32)\n",
        "result = t.transpose(matrix_A, 0, 1)\n",
        "result"
      ],
      "metadata": {
        "colab": {
          "base_uri": "https://localhost:8080/"
        },
        "id": "CIv5wuO8TyLK",
        "outputId": "e4ae5ea0-2742-429f-97ea-5507af0a1883"
      },
      "execution_count": 31,
      "outputs": [
        {
          "output_type": "execute_result",
          "data": {
            "text/plain": [
              "tensor([[4., 6.],\n",
              "        [5., 7.]])"
            ]
          },
          "metadata": {},
          "execution_count": 31
        }
      ]
    },
    {
      "cell_type": "code",
      "source": [
        "eigenvalues, eigenvectors = t.linalg.eig(matrix_A) #Always returns two values\n",
        "print(\"Eigen values:\\n\", eigenvalues)\n",
        "print(\"Eigen vectors:\\n\", eigenvectors)"
      ],
      "metadata": {
        "colab": {
          "base_uri": "https://localhost:8080/"
        },
        "id": "eLuND_AEH2la",
        "outputId": "21dec80b-ef85-4f5d-97f6-960f5b070e8d"
      },
      "execution_count": 24,
      "outputs": [
        {
          "output_type": "stream",
          "name": "stdout",
          "text": [
            "Eigen values:\n",
            " tensor([-0.3723+0.j,  5.3723+0.j])\n",
            "Eigen vectors:\n",
            " tensor([[-0.8246+0.j, -0.4160+0.j],\n",
            "        [ 0.5658+0.j, -0.9094+0.j]])\n"
          ]
        }
      ]
    },
    {
      "cell_type": "markdown",
      "source": [
        "READING AN IMAGE"
      ],
      "metadata": {
        "id": "E_QAo42uIy_m"
      }
    },
    {
      "cell_type": "code",
      "source": [
        "# @ is used for elementwise multiplication"
      ],
      "metadata": {
        "id": "1Wh7_5trITTY"
      },
      "execution_count": 25,
      "outputs": []
    },
    {
      "cell_type": "code",
      "source": [
        "from PIL import Image\n",
        "import torchvision.transforms as transforms\n",
        "import torch\n",
        "#Specify the path to image file\n",
        "image_path = \"/content/pexels-jan-kroon-1038935.jpg\"\n",
        "\n",
        "#Open the image using PIL\n",
        "image = Image.open(image_path)\n",
        "\n",
        "#Define a transform to apply to the image(if needed)\n",
        "transform = transforms.Compose([\n",
        "    #Add any transformation needed, like resizing or normalization\n",
        "    transforms.ToTensor(),  #Converts the image to pytorch tensor(important)\n",
        "])\n",
        "\n",
        "#apply the transform to the image\n",
        "tensor_image = transform(image)\n",
        "\n",
        "#Display the shape of tensor\n",
        "print(\"Tensor shape: \", tensor_image.shape)"
      ],
      "metadata": {
        "colab": {
          "base_uri": "https://localhost:8080/",
          "height": 380
        },
        "id": "i5fsaa3iKUnm",
        "outputId": "e71d10e6-3b1f-4738-a983-1f32bcb97c3f"
      },
      "execution_count": 26,
      "outputs": [
        {
          "output_type": "error",
          "ename": "FileNotFoundError",
          "evalue": "[Errno 2] No such file or directory: '/content/pexels-jan-kroon-1038935.jpg'",
          "traceback": [
            "\u001b[0;31m---------------------------------------------------------------------------\u001b[0m",
            "\u001b[0;31mFileNotFoundError\u001b[0m                         Traceback (most recent call last)",
            "\u001b[0;32m<ipython-input-26-442c04978f82>\u001b[0m in \u001b[0;36m<cell line: 8>\u001b[0;34m()\u001b[0m\n\u001b[1;32m      6\u001b[0m \u001b[0;34m\u001b[0m\u001b[0m\n\u001b[1;32m      7\u001b[0m \u001b[0;31m#Open the image using PIL\u001b[0m\u001b[0;34m\u001b[0m\u001b[0;34m\u001b[0m\u001b[0m\n\u001b[0;32m----> 8\u001b[0;31m \u001b[0mimage\u001b[0m \u001b[0;34m=\u001b[0m \u001b[0mImage\u001b[0m\u001b[0;34m.\u001b[0m\u001b[0mopen\u001b[0m\u001b[0;34m(\u001b[0m\u001b[0mimage_path\u001b[0m\u001b[0;34m)\u001b[0m\u001b[0;34m\u001b[0m\u001b[0;34m\u001b[0m\u001b[0m\n\u001b[0m\u001b[1;32m      9\u001b[0m \u001b[0;34m\u001b[0m\u001b[0m\n\u001b[1;32m     10\u001b[0m \u001b[0;31m#Define a transform to apply to the image(if needed)\u001b[0m\u001b[0;34m\u001b[0m\u001b[0;34m\u001b[0m\u001b[0m\n",
            "\u001b[0;32m/usr/local/lib/python3.10/dist-packages/PIL/Image.py\u001b[0m in \u001b[0;36mopen\u001b[0;34m(fp, mode, formats)\u001b[0m\n\u001b[1;32m   3225\u001b[0m \u001b[0;34m\u001b[0m\u001b[0m\n\u001b[1;32m   3226\u001b[0m     \u001b[0;32mif\u001b[0m \u001b[0mfilename\u001b[0m\u001b[0;34m:\u001b[0m\u001b[0;34m\u001b[0m\u001b[0;34m\u001b[0m\u001b[0m\n\u001b[0;32m-> 3227\u001b[0;31m         \u001b[0mfp\u001b[0m \u001b[0;34m=\u001b[0m \u001b[0mbuiltins\u001b[0m\u001b[0;34m.\u001b[0m\u001b[0mopen\u001b[0m\u001b[0;34m(\u001b[0m\u001b[0mfilename\u001b[0m\u001b[0;34m,\u001b[0m \u001b[0;34m\"rb\"\u001b[0m\u001b[0;34m)\u001b[0m\u001b[0;34m\u001b[0m\u001b[0;34m\u001b[0m\u001b[0m\n\u001b[0m\u001b[1;32m   3228\u001b[0m         \u001b[0mexclusive_fp\u001b[0m \u001b[0;34m=\u001b[0m \u001b[0;32mTrue\u001b[0m\u001b[0;34m\u001b[0m\u001b[0;34m\u001b[0m\u001b[0m\n\u001b[1;32m   3229\u001b[0m \u001b[0;34m\u001b[0m\u001b[0m\n",
            "\u001b[0;31mFileNotFoundError\u001b[0m: [Errno 2] No such file or directory: '/content/pexels-jan-kroon-1038935.jpg'"
          ]
        }
      ]
    },
    {
      "cell_type": "code",
      "source": [],
      "metadata": {
        "id": "WOMFbIwVM7Ci"
      },
      "execution_count": null,
      "outputs": []
    }
  ]
}